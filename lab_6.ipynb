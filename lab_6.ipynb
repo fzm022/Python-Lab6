{
 "cells": [
  {
   "cell_type": "code",
   "execution_count": 10,
   "id": "4f37165b",
   "metadata": {},
   "outputs": [
    {
     "name": "stdout",
     "output_type": "stream",
     "text": [
      "Enter the phone number: 4444444444\n",
      "This number for Abdullah\n"
     ]
    }
   ],
   "source": [
    "phone_book = {\n",
    "    \"1111111111\": \"Amal\",\n",
    "    \"2222222222\": \"Mohammed\",\n",
    "    \"3333333333\": \"Khadijah\",\n",
    "    \"4444444444\": \"Abdullah\",\n",
    "    \"5555555555\": \"Rawan\",\n",
    "    \"6666666666\": \"Faisal\",\n",
    "    \"7777777777\": \"Layla\"\n",
    "}\n",
    "num=input(\"Enter the phone number: \")\n",
    "if len(num) != 10 or not num.isdigit():\n",
    "    print(\"This is invalid number\")\n",
    "elif str(num) in phone_book:\n",
    "    print(f'This number for {phone_book[str(num)]}')\n",
    "else: \n",
    "    print(\"Sorry, the number is not found\")"
   ]
  }
 ],
 "metadata": {
  "kernelspec": {
   "display_name": "Python 3 (ipykernel)",
   "language": "python",
   "name": "python3"
  },
  "language_info": {
   "codemirror_mode": {
    "name": "ipython",
    "version": 3
   },
   "file_extension": ".py",
   "mimetype": "text/x-python",
   "name": "python",
   "nbconvert_exporter": "python",
   "pygments_lexer": "ipython3",
   "version": "3.11.3"
  }
 },
 "nbformat": 4,
 "nbformat_minor": 5
}
